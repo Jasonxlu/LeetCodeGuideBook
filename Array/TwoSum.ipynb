{
 "cells": [
  {
   "cell_type": "markdown",
   "metadata": {},
   "source": [
    "# Two Sum\n",
    "<p> </p>"
   ]
  },
  {
   "cell_type": "markdown",
   "metadata": {},
   "source": [
    "<p>\n",
    "Iteration 1: Brute Force Searching <br/>\n",
    "Time Complexity: O(n^2) <br/>\n",
    "Space Complexity: ? <br/>\n",
    "Runtime: 6000 ms <br/>\n",
    "Memory: 14.9 MB\n",
    "</p>"
   ]
  },
  {
   "cell_type": "code",
   "execution_count": 1,
   "metadata": {},
   "outputs": [
    {
     "ename": "NameError",
     "evalue": "name 'List' is not defined",
     "output_type": "error",
     "traceback": [
      "\u001b[0;31m---------------------------------------------------------------------------\u001b[0m",
      "\u001b[0;31mNameError\u001b[0m                                 Traceback (most recent call last)",
      "\u001b[1;32m/Users/Jason/repos/Leetcode/LeetCodeGuideBook/Array/TwoSum.ipynb Cell 3\u001b[0m in \u001b[0;36m<cell line: 1>\u001b[0;34m()\u001b[0m\n\u001b[0;32m----> <a href='vscode-notebook-cell:/Users/Jason/repos/Leetcode/LeetCodeGuideBook/Array/TwoSum.ipynb#ch0000002?line=0'>1</a>\u001b[0m \u001b[39mclass\u001b[39;00m \u001b[39mSolution\u001b[39;00m:\n\u001b[1;32m      <a href='vscode-notebook-cell:/Users/Jason/repos/Leetcode/LeetCodeGuideBook/Array/TwoSum.ipynb#ch0000002?line=1'>2</a>\u001b[0m     \u001b[39mdef\u001b[39;00m \u001b[39mtwoSum\u001b[39m(\u001b[39mself\u001b[39m, nums: List[\u001b[39mint\u001b[39m], target: \u001b[39mint\u001b[39m) \u001b[39m-\u001b[39m\u001b[39m>\u001b[39m List[\u001b[39mint\u001b[39m]:\n\u001b[1;32m      <a href='vscode-notebook-cell:/Users/Jason/repos/Leetcode/LeetCodeGuideBook/Array/TwoSum.ipynb#ch0000002?line=3'>4</a>\u001b[0m         listSoln \u001b[39m=\u001b[39m []\n",
      "\u001b[1;32m/Users/Jason/repos/Leetcode/LeetCodeGuideBook/Array/TwoSum.ipynb Cell 3\u001b[0m in \u001b[0;36mSolution\u001b[0;34m()\u001b[0m\n\u001b[1;32m      <a href='vscode-notebook-cell:/Users/Jason/repos/Leetcode/LeetCodeGuideBook/Array/TwoSum.ipynb#ch0000002?line=0'>1</a>\u001b[0m \u001b[39mclass\u001b[39;00m \u001b[39mSolution\u001b[39;00m:\n\u001b[0;32m----> <a href='vscode-notebook-cell:/Users/Jason/repos/Leetcode/LeetCodeGuideBook/Array/TwoSum.ipynb#ch0000002?line=1'>2</a>\u001b[0m     \u001b[39mdef\u001b[39;00m \u001b[39mtwoSum\u001b[39m(\u001b[39mself\u001b[39m, nums: List[\u001b[39mint\u001b[39m], target: \u001b[39mint\u001b[39m) \u001b[39m-\u001b[39m\u001b[39m>\u001b[39m List[\u001b[39mint\u001b[39m]:\n\u001b[1;32m      <a href='vscode-notebook-cell:/Users/Jason/repos/Leetcode/LeetCodeGuideBook/Array/TwoSum.ipynb#ch0000002?line=3'>4</a>\u001b[0m         listSoln \u001b[39m=\u001b[39m []\n\u001b[1;32m      <a href='vscode-notebook-cell:/Users/Jason/repos/Leetcode/LeetCodeGuideBook/Array/TwoSum.ipynb#ch0000002?line=5'>6</a>\u001b[0m         \u001b[39mfor\u001b[39;00m x \u001b[39min\u001b[39;00m \u001b[39mrange\u001b[39m(\u001b[39m0\u001b[39m,\u001b[39mlen\u001b[39m(nums)):\n",
      "\u001b[0;31mNameError\u001b[0m: name 'List' is not defined"
     ]
    }
   ],
   "source": [
    "class Solution:\n",
    "    def twoSum(self, nums: List[int], target: int) -> List[int]:\n",
    "        \n",
    "        listSoln = []\n",
    "        \n",
    "        for x in range(0,len(nums)):\n",
    "            for y in range(x+1,len(nums)):\n",
    "                if nums[x] + nums[y] == target:\n",
    "                    listSoln.append(x)\n",
    "                    listSoln.append(y)\n",
    "                    return listSoln"
   ]
  },
  {
   "cell_type": "markdown",
   "metadata": {},
   "source": [
    "Iteration 2: Dictionary Lookup <br/>\n",
    "Time Complexity: O(n) <br/>\n",
    "Space Complexity: O(n) <br/>\n",
    "Runtime: 58 ms <br/>\n",
    "Memory: 15.1 MB"
   ]
  },
  {
   "cell_type": "code",
   "execution_count": 4,
   "metadata": {},
   "outputs": [
    {
     "ename": "AttributeError",
     "evalue": "'dict' object has no attribute 'has_Key'",
     "output_type": "error",
     "traceback": [
      "\u001b[0;31m---------------------------------------------------------------------------\u001b[0m",
      "\u001b[0;31mAttributeError\u001b[0m                            Traceback (most recent call last)",
      "\u001b[1;32m/Users/Jason/repos/Leetcode/LeetCodeGuideBook/Array/TwoSum.ipynb Cell 5\u001b[0m in \u001b[0;36m<cell line: 2>\u001b[0;34m()\u001b[0m\n\u001b[1;32m      <a href='vscode-notebook-cell:/Users/Jason/repos/Leetcode/LeetCodeGuideBook/Array/TwoSum.ipynb#ch0000006?line=0'>1</a>\u001b[0m \u001b[39mdict\u001b[39m \u001b[39m=\u001b[39m {\u001b[39m1\u001b[39m:\u001b[39m2\u001b[39m}\n\u001b[0;32m----> <a href='vscode-notebook-cell:/Users/Jason/repos/Leetcode/LeetCodeGuideBook/Array/TwoSum.ipynb#ch0000006?line=1'>2</a>\u001b[0m \u001b[39mdict\u001b[39;49m\u001b[39m.\u001b[39;49mhas_Key()\n",
      "\u001b[0;31mAttributeError\u001b[0m: 'dict' object has no attribute 'has_Key'"
     ]
    }
   ],
   "source": [
    "class Solution:\n",
    "    def twoSum(self, nums: List[int], target: int) -> List[int]:\n",
    "        dict = {}\n",
    "        for i,x in enumerate(nums):\n",
    "            if (target - x) in dict:\n",
    "                return [i,dict[target-x]]\n",
    "            else:\n",
    "                dict[x] = i"
   ]
  }
 ],
 "metadata": {
  "kernelspec": {
   "display_name": "Python 3.9.13 64-bit",
   "language": "python",
   "name": "python3"
  },
  "language_info": {
   "codemirror_mode": {
    "name": "ipython",
    "version": 3
   },
   "file_extension": ".py",
   "mimetype": "text/x-python",
   "name": "python",
   "nbconvert_exporter": "python",
   "pygments_lexer": "ipython3",
   "version": "3.9.13"
  },
  "orig_nbformat": 4,
  "vscode": {
   "interpreter": {
    "hash": "b0fa6594d8f4cbf19f97940f81e996739fb7646882a419484c72d19e05852a7e"
   }
  }
 },
 "nbformat": 4,
 "nbformat_minor": 2
}
