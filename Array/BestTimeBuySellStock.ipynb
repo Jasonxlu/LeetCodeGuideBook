{
 "cells": [
  {
   "cell_type": "markdown",
   "metadata": {},
   "source": [
    "<p>\n",
    "Iteration 1: Naive MinSoFar Approach<br/>\n",
    "Time Complexity: O(n) <br/>\n",
    "Space Complexity:  <br/>\n",
    "Runtime: 1600 - 2076 ms<br/>\n",
    "Memory: 25.1 MB\n",
    "</p>"
   ]
  },
  {
   "cell_type": "code",
   "execution_count": null,
   "metadata": {},
   "outputs": [],
   "source": [
    "class Solution:\n",
    "    def maxProfit(self, prices: List[int]) -> int:\n",
    "      \n",
    "        min = prices[0]\n",
    "        maxprof = 0\n",
    "        for i,x in enumerate(prices):\n",
    "            if x < min:\n",
    "                min = x\n",
    "            prof = x - min\n",
    "            if prof > maxprof:\n",
    "                maxprof = prof\n",
    "        return maxprof"
   ]
  },
  {
   "cell_type": "markdown",
   "metadata": {},
   "source": [
    "<p>\n",
    "Iteration 1: Naive Force Approach<br/>\n",
    "Time Complexity: O(n) <br/>\n",
    "Space Complexity:  <br/>\n",
    "Runtime: 2076 ms<br/>\n",
    "Memory: 25.1 MB\n",
    "</p>"
   ]
  },
  {
   "cell_type": "code",
   "execution_count": null,
   "metadata": {},
   "outputs": [],
   "source": []
  }
 ],
 "metadata": {
  "kernelspec": {
   "display_name": "Python 3.9.13 64-bit",
   "language": "python",
   "name": "python3"
  },
  "language_info": {
   "name": "python",
   "version": "3.9.13"
  },
  "orig_nbformat": 4,
  "vscode": {
   "interpreter": {
    "hash": "b0fa6594d8f4cbf19f97940f81e996739fb7646882a419484c72d19e05852a7e"
   }
  }
 },
 "nbformat": 4,
 "nbformat_minor": 2
}
