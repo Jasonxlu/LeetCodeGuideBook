{
 "cells": [
  {
   "cell_type": "markdown",
   "metadata": {},
   "source": [
    "<p>\n",
    "Iteration 1: Naive MinSoFar Approach<br/>\n",
    "Time Complexity: O(n) <br/>\n",
    "Space Complexity: O(1) <br/>\n",
    "Runtime: 1600 - 2076 ms<br/>\n",
    "Memory: 25.1 MB\n",
    "\n",
    "Keep track of the min. Continously keep track of profit and max profit and return max profit.\n",
    "</p>"
   ]
  },
  {
   "cell_type": "code",
   "execution_count": null,
   "metadata": {},
   "outputs": [],
   "source": [
    "class Solution:\n",
    "    def maxProfit(self, prices: List[int]) -> int:\n",
    "      \n",
    "        min = prices[0]\n",
    "        maxprof = 0\n",
    "        for i,x in enumerate(prices):\n",
    "            if x < min:\n",
    "                min = x\n",
    "            prof = x - min\n",
    "            if prof > maxprof:\n",
    "                maxprof = prof\n",
    "        return maxprof"
   ]
  },
  {
   "cell_type": "markdown",
   "metadata": {},
   "source": [
    "<p>\n",
    "Iteration 1: Kadane's Algorithm<br/>\n",
    "Time Complexity: O(n) <br/>\n",
    "Space Complexity: O(1) <br/>\n",
    "Runtime: 1740 ms <br/>\n",
    "Memory: 25 MB\n",
    "\n",
    "Dynamic Programming Approach, Max sum of subarray\n",
    "</p>"
   ]
  },
  {
   "cell_type": "code",
   "execution_count": null,
   "metadata": {},
   "outputs": [],
   "source": [
    "class Solution:\n",
    "    def maxProfit(self, prices: List[int]) -> int:\n",
    "        n = len(prices)\n",
    "        ans = 0\n",
    "        curSum = 0\n",
    "        for i in range(n-1):\n",
    "            curSum += prices[i+1] - prices[i]\n",
    "            if curSum < 0:\n",
    "                curSum = 0\n",
    "            ans = max(ans, curSum)\n",
    "        return ans"
   ]
  }
 ],
 "metadata": {
  "kernelspec": {
   "display_name": "Python 3.9.13 64-bit",
   "language": "python",
   "name": "python3"
  },
  "language_info": {
   "name": "python",
   "version": "3.9.13"
  },
  "orig_nbformat": 4,
  "vscode": {
   "interpreter": {
    "hash": "b0fa6594d8f4cbf19f97940f81e996739fb7646882a419484c72d19e05852a7e"
   }
  }
 },
 "nbformat": 4,
 "nbformat_minor": 2
}
